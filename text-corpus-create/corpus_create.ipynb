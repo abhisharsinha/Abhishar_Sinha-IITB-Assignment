{
 "cells": [
  {
   "cell_type": "code",
   "execution_count": 1,
   "metadata": {},
   "outputs": [],
   "source": [
    "import pandas as pd"
   ]
  },
  {
   "cell_type": "code",
   "execution_count": 2,
   "metadata": {},
   "outputs": [
    {
     "data": {
      "text/html": [
       "<div>\n",
       "<style scoped>\n",
       "    .dataframe tbody tr th:only-of-type {\n",
       "        vertical-align: middle;\n",
       "    }\n",
       "\n",
       "    .dataframe tbody tr th {\n",
       "        vertical-align: top;\n",
       "    }\n",
       "\n",
       "    .dataframe thead th {\n",
       "        text-align: right;\n",
       "    }\n",
       "</style>\n",
       "<table border=\"1\" class=\"dataframe\">\n",
       "  <thead>\n",
       "    <tr style=\"text-align: right;\">\n",
       "      <th></th>\n",
       "      <th>name</th>\n",
       "      <th>email</th>\n",
       "      <th>address</th>\n",
       "      <th>phone</th>\n",
       "      <th>company</th>\n",
       "    </tr>\n",
       "  </thead>\n",
       "  <tbody>\n",
       "    <tr>\n",
       "      <th>0</th>\n",
       "      <td>Alan Joseph</td>\n",
       "      <td>neque@mus.com</td>\n",
       "      <td>Ap #782-3403 Amet Rd.</td>\n",
       "      <td>16120828 6987</td>\n",
       "      <td>Ornare In Associates</td>\n",
       "    </tr>\n",
       "    <tr>\n",
       "      <th>1</th>\n",
       "      <td>Wang Holden</td>\n",
       "      <td>sapien.Cras.dolor@amet.net</td>\n",
       "      <td>246-2445 Eu St.</td>\n",
       "      <td>16690726 7519</td>\n",
       "      <td>Id Libero Donec LLC</td>\n",
       "    </tr>\n",
       "    <tr>\n",
       "      <th>2</th>\n",
       "      <td>Lucius Orr</td>\n",
       "      <td>Donec.nibh.Quisque@aliquam.com</td>\n",
       "      <td>P.O. Box 946, 1400 Non, St.</td>\n",
       "      <td>16550722 3971</td>\n",
       "      <td>Ornare Libero Industries</td>\n",
       "    </tr>\n",
       "    <tr>\n",
       "      <th>3</th>\n",
       "      <td>Imani Montgomery</td>\n",
       "      <td>elit@rutrumnonhendrerit.ca</td>\n",
       "      <td>P.O. Box 255, 8347 Odio, Road</td>\n",
       "      <td>16021223 5865</td>\n",
       "      <td>Et Libero Limited</td>\n",
       "    </tr>\n",
       "    <tr>\n",
       "      <th>4</th>\n",
       "      <td>Thane V. Campos</td>\n",
       "      <td>sagittis.Duis@velitPellentesqueultricies.co.uk</td>\n",
       "      <td>Ap #775-9847 Consectetuer Av.</td>\n",
       "      <td>16480730 0563</td>\n",
       "      <td>Consectetuer Limited</td>\n",
       "    </tr>\n",
       "  </tbody>\n",
       "</table>\n",
       "</div>"
      ],
      "text/plain": [
       "               name                                           email  \\\n",
       "0       Alan Joseph                                   neque@mus.com   \n",
       "1       Wang Holden                      sapien.Cras.dolor@amet.net   \n",
       "2        Lucius Orr                  Donec.nibh.Quisque@aliquam.com   \n",
       "3  Imani Montgomery                      elit@rutrumnonhendrerit.ca   \n",
       "4   Thane V. Campos  sagittis.Duis@velitPellentesqueultricies.co.uk   \n",
       "\n",
       "                         address          phone                   company  \n",
       "0          Ap #782-3403 Amet Rd.  16120828 6987      Ornare In Associates  \n",
       "1                246-2445 Eu St.  16690726 7519       Id Libero Donec LLC  \n",
       "2    P.O. Box 946, 1400 Non, St.  16550722 3971  Ornare Libero Industries  \n",
       "3  P.O. Box 255, 8347 Odio, Road  16021223 5865         Et Libero Limited  \n",
       "4  Ap #775-9847 Consectetuer Av.  16480730 0563      Consectetuer Limited  "
      ]
     },
     "execution_count": 2,
     "metadata": {},
     "output_type": "execute_result"
    }
   ],
   "source": [
    "data1 = pd.read_csv(\"dat1.csv\")\n",
    "data1.head()"
   ]
  },
  {
   "cell_type": "code",
   "execution_count": 9,
   "metadata": {},
   "outputs": [],
   "source": [
    "names = []\n",
    "names.extend(data1.name.values.tolist())"
   ]
  },
  {
   "cell_type": "code",
   "execution_count": 8,
   "metadata": {},
   "outputs": [
    {
     "data": {
      "text/plain": [
       "list"
      ]
     },
     "execution_count": 8,
     "metadata": {},
     "output_type": "execute_result"
    }
   ],
   "source": [
    "type(data1.name.values.tolist())"
   ]
  },
  {
   "cell_type": "code",
   "execution_count": 11,
   "metadata": {},
   "outputs": [
    {
     "data": {
      "text/plain": [
       "100"
      ]
     },
     "execution_count": 11,
     "metadata": {},
     "output_type": "execute_result"
    }
   ],
   "source": [
    "len(names)"
   ]
  },
  {
   "cell_type": "code",
   "execution_count": 12,
   "metadata": {},
   "outputs": [
    {
     "data": {
      "text/html": [
       "<div>\n",
       "<style scoped>\n",
       "    .dataframe tbody tr th:only-of-type {\n",
       "        vertical-align: middle;\n",
       "    }\n",
       "\n",
       "    .dataframe tbody tr th {\n",
       "        vertical-align: top;\n",
       "    }\n",
       "\n",
       "    .dataframe thead th {\n",
       "        text-align: right;\n",
       "    }\n",
       "</style>\n",
       "<table border=\"1\" class=\"dataframe\">\n",
       "  <thead>\n",
       "    <tr style=\"text-align: right;\">\n",
       "      <th></th>\n",
       "      <th>name</th>\n",
       "      <th>email</th>\n",
       "      <th>address</th>\n",
       "      <th>phone</th>\n",
       "      <th>company</th>\n",
       "    </tr>\n",
       "  </thead>\n",
       "  <tbody>\n",
       "    <tr>\n",
       "      <th>0</th>\n",
       "      <td>Katelyn</td>\n",
       "      <td>purus.mauris.a@tempusscelerisquelorem.ca</td>\n",
       "      <td>Ap #101-437 Tincidunt, Ave</td>\n",
       "      <td>16690324 1252</td>\n",
       "      <td>Felis Industries</td>\n",
       "    </tr>\n",
       "    <tr>\n",
       "      <th>1</th>\n",
       "      <td>Erasmus</td>\n",
       "      <td>pharetra.felis@elit.net</td>\n",
       "      <td>P.O. Box 455, 7812 Pellentesque Ave</td>\n",
       "      <td>16740612 5323</td>\n",
       "      <td>Justo Nec Corporation</td>\n",
       "    </tr>\n",
       "    <tr>\n",
       "      <th>2</th>\n",
       "      <td>Marny</td>\n",
       "      <td>ac.libero@ridiculusmus.edu</td>\n",
       "      <td>915-1392 Quam. Avenue</td>\n",
       "      <td>16360211 4591</td>\n",
       "      <td>Vitae PC</td>\n",
       "    </tr>\n",
       "    <tr>\n",
       "      <th>3</th>\n",
       "      <td>Lucius</td>\n",
       "      <td>mattis.velit@magna.org</td>\n",
       "      <td>Ap #234-9156 Sed Ave</td>\n",
       "      <td>16641118 2535</td>\n",
       "      <td>Congue In Scelerisque Incorporated</td>\n",
       "    </tr>\n",
       "    <tr>\n",
       "      <th>4</th>\n",
       "      <td>Angelica</td>\n",
       "      <td>non.justo.Proin@sitametornare.ca</td>\n",
       "      <td>6502 Et Avenue</td>\n",
       "      <td>16260721 6245</td>\n",
       "      <td>Fringilla Incorporated</td>\n",
       "    </tr>\n",
       "  </tbody>\n",
       "</table>\n",
       "</div>"
      ],
      "text/plain": [
       "       name                                     email  \\\n",
       "0   Katelyn  purus.mauris.a@tempusscelerisquelorem.ca   \n",
       "1   Erasmus                   pharetra.felis@elit.net   \n",
       "2     Marny                ac.libero@ridiculusmus.edu   \n",
       "3    Lucius                    mattis.velit@magna.org   \n",
       "4  Angelica          non.justo.Proin@sitametornare.ca   \n",
       "\n",
       "                               address          phone  \\\n",
       "0           Ap #101-437 Tincidunt, Ave  16690324 1252   \n",
       "1  P.O. Box 455, 7812 Pellentesque Ave  16740612 5323   \n",
       "2                915-1392 Quam. Avenue  16360211 4591   \n",
       "3                 Ap #234-9156 Sed Ave  16641118 2535   \n",
       "4                       6502 Et Avenue  16260721 6245   \n",
       "\n",
       "                              company  \n",
       "0                    Felis Industries  \n",
       "1               Justo Nec Corporation  \n",
       "2                            Vitae PC  \n",
       "3  Congue In Scelerisque Incorporated  \n",
       "4              Fringilla Incorporated  "
      ]
     },
     "execution_count": 12,
     "metadata": {},
     "output_type": "execute_result"
    }
   ],
   "source": [
    "data2 = pd.read_csv(\"dat2.csv\")\n",
    "data2.head()"
   ]
  },
  {
   "cell_type": "code",
   "execution_count": 14,
   "metadata": {},
   "outputs": [
    {
     "data": {
      "text/plain": [
       "200"
      ]
     },
     "execution_count": 14,
     "metadata": {},
     "output_type": "execute_result"
    }
   ],
   "source": [
    "names.extend(data2.name.values.tolist())\n",
    "len(names)"
   ]
  },
  {
   "cell_type": "code",
   "execution_count": 16,
   "metadata": {},
   "outputs": [
    {
     "data": {
      "text/plain": [
       "200"
      ]
     },
     "execution_count": 16,
     "metadata": {},
     "output_type": "execute_result"
    }
   ],
   "source": [
    "emails = data2.email.values.tolist()\n",
    "emails.extend(data2.email.values.tolist())\n",
    "len(emails)"
   ]
  },
  {
   "cell_type": "code",
   "execution_count": 17,
   "metadata": {},
   "outputs": [
    {
     "data": {
      "text/plain": [
       "400"
      ]
     },
     "execution_count": 17,
     "metadata": {},
     "output_type": "execute_result"
    }
   ],
   "source": [
    "phon_address = data1.address.values.tolist()\n",
    "phon_address.extend(data2.address.values.tolist())\n",
    "phon_address.extend(data1.phone.values.tolist())\n",
    "phon_address.extend(data2.phone.values.tolist())\n",
    "len(phon_address)"
   ]
  },
  {
   "cell_type": "code",
   "execution_count": 20,
   "metadata": {},
   "outputs": [],
   "source": [
    "with open(\"card_corpa.txt\", \"w\") as f:\n",
    "    print(*names, sep=\"\\n\", file=f)\n",
    "    print(*emails, sep=\"\\n\", file=f)\n",
    "    print(*phon_address, sep=\"\\n\", file=f)"
   ]
  },
  {
   "cell_type": "code",
   "execution_count": null,
   "metadata": {},
   "outputs": [],
   "source": []
  }
 ],
 "metadata": {
  "kernelspec": {
   "display_name": "Python 3",
   "language": "python",
   "name": "python3"
  },
  "language_info": {
   "codemirror_mode": {
    "name": "ipython",
    "version": 3
   },
   "file_extension": ".py",
   "mimetype": "text/x-python",
   "name": "python",
   "nbconvert_exporter": "python",
   "pygments_lexer": "ipython3",
   "version": "3.7.3"
  }
 },
 "nbformat": 4,
 "nbformat_minor": 2
}
